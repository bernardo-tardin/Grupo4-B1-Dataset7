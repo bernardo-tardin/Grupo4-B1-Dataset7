{
 "cells": [
  {
   "cell_type": "markdown",
   "metadata": {},
   "source": [
    "## Grupo 7"
   ]
  },
  {
   "cell_type": "markdown",
   "metadata": {},
   "source": [
    "### Secção 1"
   ]
  },
  {
   "cell_type": "markdown",
   "metadata": {},
   "source": [
    "### Descrição dos dados\n",
    "O projeto tem como objetivo analisar o efeito da insulina no músculo esquelético humano. Para isto, biópsias musculares obtidas antes e durante clampes euglicémicos-hiperinsulinémicos de indivíduos sensíveis à insulina. \n",
    "\n",
    "Cada amostra (total de 110) corresponde a um paciente, com 12626 medidas disponíveis que correspondem ao mRNA do gene do paciente. Cada paciente é caracterizado por 2 variávies (estado da doença e agente) que são fornecidas no ficheiro de metadados.\n"
   ]
  },
  {
   "cell_type": "markdown",
   "metadata": {},
   "source": [
    "#### Leitura do ficheiro de dados e de metadados"
   ]
  },
  {
   "cell_type": "code",
   "execution_count": 473,
   "metadata": {},
   "outputs": [],
   "source": [
    "import pandas as pd\n",
    "import numpy as np\n",
    "import matplotlib.pyplot as plt"
   ]
  },
  {
   "cell_type": "code",
   "execution_count": 474,
   "metadata": {},
   "outputs": [],
   "source": [
    "from warnings import simplefilter\n",
    "# ignore all future warnings\n",
    "simplefilter(action='ignore', category=FutureWarning)\n",
    "\n",
    "import pandas as pd\n",
    "import numpy as np\n",
    "\n",
    "data_set = pd.read_csv(\"gds3715.csv\", index_col=0)\n",
    "meta_data = pd.read_csv(\"meta-gds3715.csv\", index_col=0)"
   ]
  },
  {
   "cell_type": "code",
   "execution_count": 475,
   "metadata": {},
   "outputs": [
    {
     "data": {
      "text/html": [
       "<div>\n",
       "<style scoped>\n",
       "    .dataframe tbody tr th:only-of-type {\n",
       "        vertical-align: middle;\n",
       "    }\n",
       "\n",
       "    .dataframe tbody tr th {\n",
       "        vertical-align: top;\n",
       "    }\n",
       "\n",
       "    .dataframe thead th {\n",
       "        text-align: right;\n",
       "    }\n",
       "</style>\n",
       "<table border=\"1\" class=\"dataframe\">\n",
       "  <thead>\n",
       "    <tr style=\"text-align: right;\">\n",
       "      <th></th>\n",
       "      <th>GSM555237</th>\n",
       "      <th>GSM555239</th>\n",
       "      <th>GSM555241</th>\n",
       "      <th>GSM555243</th>\n",
       "      <th>GSM555245</th>\n",
       "      <th>GSM555247</th>\n",
       "      <th>GSM555249</th>\n",
       "      <th>GSM555251</th>\n",
       "      <th>GSM555253</th>\n",
       "      <th>GSM555255</th>\n",
       "      <th>...</th>\n",
       "      <th>GSM555328</th>\n",
       "      <th>GSM555330</th>\n",
       "      <th>GSM555332</th>\n",
       "      <th>GSM555334</th>\n",
       "      <th>GSM555336</th>\n",
       "      <th>GSM555338</th>\n",
       "      <th>GSM555340</th>\n",
       "      <th>GSM555342</th>\n",
       "      <th>GSM555344</th>\n",
       "      <th>GSM555346</th>\n",
       "    </tr>\n",
       "  </thead>\n",
       "  <tbody>\n",
       "    <tr>\n",
       "      <th>1000_at</th>\n",
       "      <td>9.47197</td>\n",
       "      <td>9.74422</td>\n",
       "      <td>9.39861</td>\n",
       "      <td>9.47081</td>\n",
       "      <td>9.51046</td>\n",
       "      <td>9.55608</td>\n",
       "      <td>9.43046</td>\n",
       "      <td>9.42276</td>\n",
       "      <td>9.62158</td>\n",
       "      <td>9.60610</td>\n",
       "      <td>...</td>\n",
       "      <td>9.50314</td>\n",
       "      <td>9.54907</td>\n",
       "      <td>9.54852</td>\n",
       "      <td>9.50661</td>\n",
       "      <td>9.25694</td>\n",
       "      <td>9.53399</td>\n",
       "      <td>9.25747</td>\n",
       "      <td>9.28345</td>\n",
       "      <td>9.50694</td>\n",
       "      <td>9.32879</td>\n",
       "    </tr>\n",
       "    <tr>\n",
       "      <th>1001_at</th>\n",
       "      <td>8.07568</td>\n",
       "      <td>8.36888</td>\n",
       "      <td>8.11010</td>\n",
       "      <td>8.26302</td>\n",
       "      <td>8.32918</td>\n",
       "      <td>8.04327</td>\n",
       "      <td>8.00928</td>\n",
       "      <td>8.12348</td>\n",
       "      <td>7.80472</td>\n",
       "      <td>8.31533</td>\n",
       "      <td>...</td>\n",
       "      <td>8.10220</td>\n",
       "      <td>8.14715</td>\n",
       "      <td>8.29711</td>\n",
       "      <td>8.46473</td>\n",
       "      <td>7.87175</td>\n",
       "      <td>8.25165</td>\n",
       "      <td>7.69439</td>\n",
       "      <td>7.86263</td>\n",
       "      <td>8.44435</td>\n",
       "      <td>7.76580</td>\n",
       "    </tr>\n",
       "    <tr>\n",
       "      <th>1002_f_at</th>\n",
       "      <td>7.33523</td>\n",
       "      <td>7.50925</td>\n",
       "      <td>7.48819</td>\n",
       "      <td>7.49526</td>\n",
       "      <td>7.42857</td>\n",
       "      <td>7.43269</td>\n",
       "      <td>7.51676</td>\n",
       "      <td>7.29152</td>\n",
       "      <td>7.37745</td>\n",
       "      <td>7.24886</td>\n",
       "      <td>...</td>\n",
       "      <td>7.17414</td>\n",
       "      <td>7.33717</td>\n",
       "      <td>7.31746</td>\n",
       "      <td>7.37310</td>\n",
       "      <td>7.03650</td>\n",
       "      <td>7.16885</td>\n",
       "      <td>7.12184</td>\n",
       "      <td>6.93876</td>\n",
       "      <td>7.19596</td>\n",
       "      <td>7.10649</td>\n",
       "    </tr>\n",
       "    <tr>\n",
       "      <th>1003_s_at</th>\n",
       "      <td>9.47628</td>\n",
       "      <td>9.62127</td>\n",
       "      <td>9.45165</td>\n",
       "      <td>9.48732</td>\n",
       "      <td>9.37714</td>\n",
       "      <td>9.55056</td>\n",
       "      <td>9.51935</td>\n",
       "      <td>9.54308</td>\n",
       "      <td>9.37400</td>\n",
       "      <td>9.45150</td>\n",
       "      <td>...</td>\n",
       "      <td>9.28389</td>\n",
       "      <td>9.38620</td>\n",
       "      <td>9.46976</td>\n",
       "      <td>9.26532</td>\n",
       "      <td>9.11653</td>\n",
       "      <td>9.26911</td>\n",
       "      <td>9.20385</td>\n",
       "      <td>9.26302</td>\n",
       "      <td>9.24493</td>\n",
       "      <td>9.12385</td>\n",
       "    </tr>\n",
       "    <tr>\n",
       "      <th>1004_at</th>\n",
       "      <td>8.79882</td>\n",
       "      <td>9.14707</td>\n",
       "      <td>9.01776</td>\n",
       "      <td>9.15347</td>\n",
       "      <td>9.06630</td>\n",
       "      <td>9.14434</td>\n",
       "      <td>9.06024</td>\n",
       "      <td>8.94907</td>\n",
       "      <td>9.20602</td>\n",
       "      <td>9.06941</td>\n",
       "      <td>...</td>\n",
       "      <td>8.79236</td>\n",
       "      <td>8.88618</td>\n",
       "      <td>8.80036</td>\n",
       "      <td>8.99845</td>\n",
       "      <td>8.56096</td>\n",
       "      <td>8.87397</td>\n",
       "      <td>8.72164</td>\n",
       "      <td>8.86822</td>\n",
       "      <td>8.76654</td>\n",
       "      <td>8.50369</td>\n",
       "    </tr>\n",
       "  </tbody>\n",
       "</table>\n",
       "<p>5 rows × 110 columns</p>\n",
       "</div>"
      ],
      "text/plain": [
       "           GSM555237  GSM555239  GSM555241  GSM555243  GSM555245  GSM555247  \\\n",
       "1000_at      9.47197    9.74422    9.39861    9.47081    9.51046    9.55608   \n",
       "1001_at      8.07568    8.36888    8.11010    8.26302    8.32918    8.04327   \n",
       "1002_f_at    7.33523    7.50925    7.48819    7.49526    7.42857    7.43269   \n",
       "1003_s_at    9.47628    9.62127    9.45165    9.48732    9.37714    9.55056   \n",
       "1004_at      8.79882    9.14707    9.01776    9.15347    9.06630    9.14434   \n",
       "\n",
       "           GSM555249  GSM555251  GSM555253  GSM555255  ...  GSM555328  \\\n",
       "1000_at      9.43046    9.42276    9.62158    9.60610  ...    9.50314   \n",
       "1001_at      8.00928    8.12348    7.80472    8.31533  ...    8.10220   \n",
       "1002_f_at    7.51676    7.29152    7.37745    7.24886  ...    7.17414   \n",
       "1003_s_at    9.51935    9.54308    9.37400    9.45150  ...    9.28389   \n",
       "1004_at      9.06024    8.94907    9.20602    9.06941  ...    8.79236   \n",
       "\n",
       "           GSM555330  GSM555332  GSM555334  GSM555336  GSM555338  GSM555340  \\\n",
       "1000_at      9.54907    9.54852    9.50661    9.25694    9.53399    9.25747   \n",
       "1001_at      8.14715    8.29711    8.46473    7.87175    8.25165    7.69439   \n",
       "1002_f_at    7.33717    7.31746    7.37310    7.03650    7.16885    7.12184   \n",
       "1003_s_at    9.38620    9.46976    9.26532    9.11653    9.26911    9.20385   \n",
       "1004_at      8.88618    8.80036    8.99845    8.56096    8.87397    8.72164   \n",
       "\n",
       "           GSM555342  GSM555344  GSM555346  \n",
       "1000_at      9.28345    9.50694    9.32879  \n",
       "1001_at      7.86263    8.44435    7.76580  \n",
       "1002_f_at    6.93876    7.19596    7.10649  \n",
       "1003_s_at    9.26302    9.24493    9.12385  \n",
       "1004_at      8.86822    8.76654    8.50369  \n",
       "\n",
       "[5 rows x 110 columns]"
      ]
     },
     "execution_count": 475,
     "metadata": {},
     "output_type": "execute_result"
    }
   ],
   "source": [
    "data_set.head()"
   ]
  },
  {
   "cell_type": "code",
   "execution_count": 476,
   "metadata": {},
   "outputs": [
    {
     "data": {
      "text/html": [
       "<div>\n",
       "<style scoped>\n",
       "    .dataframe tbody tr th:only-of-type {\n",
       "        vertical-align: middle;\n",
       "    }\n",
       "\n",
       "    .dataframe tbody tr th {\n",
       "        vertical-align: top;\n",
       "    }\n",
       "\n",
       "    .dataframe thead th {\n",
       "        text-align: right;\n",
       "    }\n",
       "</style>\n",
       "<table border=\"1\" class=\"dataframe\">\n",
       "  <thead>\n",
       "    <tr style=\"text-align: right;\">\n",
       "      <th></th>\n",
       "      <th>sample</th>\n",
       "      <th>disease.state</th>\n",
       "      <th>agent</th>\n",
       "      <th>description</th>\n",
       "    </tr>\n",
       "  </thead>\n",
       "  <tbody>\n",
       "    <tr>\n",
       "      <th>GSM555237</th>\n",
       "      <td>GSM555237</td>\n",
       "      <td>insulin sensitive</td>\n",
       "      <td>untreated</td>\n",
       "      <td>Value for GSM555237: a10a.000606jd.2.SkMNor907...</td>\n",
       "    </tr>\n",
       "    <tr>\n",
       "      <th>GSM555239</th>\n",
       "      <td>GSM555239</td>\n",
       "      <td>insulin sensitive</td>\n",
       "      <td>untreated</td>\n",
       "      <td>Value for GSM555239: a10a.000606jd.2.SkMNor911...</td>\n",
       "    </tr>\n",
       "    <tr>\n",
       "      <th>GSM555241</th>\n",
       "      <td>GSM555241</td>\n",
       "      <td>insulin sensitive</td>\n",
       "      <td>untreated</td>\n",
       "      <td>Value for GSM555241: Run1.a10a.000607jd.2.SkMN...</td>\n",
       "    </tr>\n",
       "    <tr>\n",
       "      <th>GSM555243</th>\n",
       "      <td>GSM555243</td>\n",
       "      <td>insulin sensitive</td>\n",
       "      <td>untreated</td>\n",
       "      <td>Value for GSM555243: Run1.a10a.000607jd.2.SkMN...</td>\n",
       "    </tr>\n",
       "    <tr>\n",
       "      <th>GSM555245</th>\n",
       "      <td>GSM555245</td>\n",
       "      <td>insulin sensitive</td>\n",
       "      <td>untreated</td>\n",
       "      <td>Value for GSM555245: Run1.a10a.000607jd.2.SkMN...</td>\n",
       "    </tr>\n",
       "  </tbody>\n",
       "</table>\n",
       "</div>"
      ],
      "text/plain": [
       "              sample      disease.state      agent  \\\n",
       "GSM555237  GSM555237  insulin sensitive  untreated   \n",
       "GSM555239  GSM555239  insulin sensitive  untreated   \n",
       "GSM555241  GSM555241  insulin sensitive  untreated   \n",
       "GSM555243  GSM555243  insulin sensitive  untreated   \n",
       "GSM555245  GSM555245  insulin sensitive  untreated   \n",
       "\n",
       "                                                 description  \n",
       "GSM555237  Value for GSM555237: a10a.000606jd.2.SkMNor907...  \n",
       "GSM555239  Value for GSM555239: a10a.000606jd.2.SkMNor911...  \n",
       "GSM555241  Value for GSM555241: Run1.a10a.000607jd.2.SkMN...  \n",
       "GSM555243  Value for GSM555243: Run1.a10a.000607jd.2.SkMN...  \n",
       "GSM555245  Value for GSM555245: Run1.a10a.000607jd.2.SkMN...  "
      ]
     },
     "execution_count": 476,
     "metadata": {},
     "output_type": "execute_result"
    }
   ],
   "source": [
    "meta_data.head()"
   ]
  },
  {
   "cell_type": "markdown",
   "metadata": {},
   "source": [
    "Como serão aplicados modelos de Machine Learning aos dados, é necessário que os genes, que representam as características em análise, estejam nas colunas. Portanto, o conjunto de dados precisa ser transposto."
   ]
  },
  {
   "cell_type": "code",
   "execution_count": 477,
   "metadata": {},
   "outputs": [
    {
     "data": {
      "text/html": [
       "<div>\n",
       "<style scoped>\n",
       "    .dataframe tbody tr th:only-of-type {\n",
       "        vertical-align: middle;\n",
       "    }\n",
       "\n",
       "    .dataframe tbody tr th {\n",
       "        vertical-align: top;\n",
       "    }\n",
       "\n",
       "    .dataframe thead th {\n",
       "        text-align: right;\n",
       "    }\n",
       "</style>\n",
       "<table border=\"1\" class=\"dataframe\">\n",
       "  <thead>\n",
       "    <tr style=\"text-align: right;\">\n",
       "      <th></th>\n",
       "      <th>1000_at</th>\n",
       "      <th>1001_at</th>\n",
       "      <th>1002_f_at</th>\n",
       "      <th>1003_s_at</th>\n",
       "      <th>1004_at</th>\n",
       "      <th>1005_at</th>\n",
       "      <th>1006_at</th>\n",
       "      <th>1007_s_at</th>\n",
       "      <th>1008_f_at</th>\n",
       "      <th>1009_at</th>\n",
       "      <th>...</th>\n",
       "      <th>AFFX-ThrX-3_at</th>\n",
       "      <th>AFFX-ThrX-5_at</th>\n",
       "      <th>AFFX-ThrX-M_at</th>\n",
       "      <th>AFFX-TrpnX-3_at</th>\n",
       "      <th>AFFX-TrpnX-5_at</th>\n",
       "      <th>AFFX-TrpnX-M_at</th>\n",
       "      <th>AFFX-YEL002c/WBP1_at</th>\n",
       "      <th>AFFX-YEL018w/_at</th>\n",
       "      <th>AFFX-YEL021w/URA3_at</th>\n",
       "      <th>AFFX-YEL024w/RIP1_at</th>\n",
       "    </tr>\n",
       "  </thead>\n",
       "  <tbody>\n",
       "    <tr>\n",
       "      <th>GSM555237</th>\n",
       "      <td>9.47197</td>\n",
       "      <td>8.07568</td>\n",
       "      <td>7.33523</td>\n",
       "      <td>9.47628</td>\n",
       "      <td>8.79882</td>\n",
       "      <td>10.17860</td>\n",
       "      <td>7.04276</td>\n",
       "      <td>9.68760</td>\n",
       "      <td>11.7491</td>\n",
       "      <td>12.2487</td>\n",
       "      <td>...</td>\n",
       "      <td>8.10963</td>\n",
       "      <td>8.24015</td>\n",
       "      <td>6.82856</td>\n",
       "      <td>6.15432</td>\n",
       "      <td>7.52008</td>\n",
       "      <td>7.36990</td>\n",
       "      <td>6.70451</td>\n",
       "      <td>6.88676</td>\n",
       "      <td>6.52184</td>\n",
       "      <td>7.24694</td>\n",
       "    </tr>\n",
       "    <tr>\n",
       "      <th>GSM555239</th>\n",
       "      <td>9.74422</td>\n",
       "      <td>8.36888</td>\n",
       "      <td>7.50925</td>\n",
       "      <td>9.62127</td>\n",
       "      <td>9.14707</td>\n",
       "      <td>9.56436</td>\n",
       "      <td>6.97457</td>\n",
       "      <td>10.06410</td>\n",
       "      <td>11.2478</td>\n",
       "      <td>11.6496</td>\n",
       "      <td>...</td>\n",
       "      <td>7.65618</td>\n",
       "      <td>7.74903</td>\n",
       "      <td>6.57203</td>\n",
       "      <td>5.88055</td>\n",
       "      <td>7.63682</td>\n",
       "      <td>7.16841</td>\n",
       "      <td>6.73947</td>\n",
       "      <td>6.56266</td>\n",
       "      <td>6.41881</td>\n",
       "      <td>6.91550</td>\n",
       "    </tr>\n",
       "    <tr>\n",
       "      <th>GSM555241</th>\n",
       "      <td>9.39861</td>\n",
       "      <td>8.11010</td>\n",
       "      <td>7.48819</td>\n",
       "      <td>9.45165</td>\n",
       "      <td>9.01776</td>\n",
       "      <td>9.90201</td>\n",
       "      <td>6.92717</td>\n",
       "      <td>9.82471</td>\n",
       "      <td>11.7372</td>\n",
       "      <td>11.8027</td>\n",
       "      <td>...</td>\n",
       "      <td>8.27807</td>\n",
       "      <td>8.11228</td>\n",
       "      <td>7.03743</td>\n",
       "      <td>6.44215</td>\n",
       "      <td>7.73843</td>\n",
       "      <td>7.28745</td>\n",
       "      <td>6.98473</td>\n",
       "      <td>6.95697</td>\n",
       "      <td>6.66408</td>\n",
       "      <td>7.41208</td>\n",
       "    </tr>\n",
       "    <tr>\n",
       "      <th>GSM555243</th>\n",
       "      <td>9.47081</td>\n",
       "      <td>8.26302</td>\n",
       "      <td>7.49526</td>\n",
       "      <td>9.48732</td>\n",
       "      <td>9.15347</td>\n",
       "      <td>9.92112</td>\n",
       "      <td>7.01103</td>\n",
       "      <td>10.09450</td>\n",
       "      <td>11.8627</td>\n",
       "      <td>12.0252</td>\n",
       "      <td>...</td>\n",
       "      <td>7.91000</td>\n",
       "      <td>7.97068</td>\n",
       "      <td>6.89846</td>\n",
       "      <td>6.13764</td>\n",
       "      <td>7.59757</td>\n",
       "      <td>7.53081</td>\n",
       "      <td>6.31709</td>\n",
       "      <td>6.76735</td>\n",
       "      <td>6.89247</td>\n",
       "      <td>7.06424</td>\n",
       "    </tr>\n",
       "    <tr>\n",
       "      <th>GSM555245</th>\n",
       "      <td>9.51046</td>\n",
       "      <td>8.32918</td>\n",
       "      <td>7.42857</td>\n",
       "      <td>9.37714</td>\n",
       "      <td>9.06630</td>\n",
       "      <td>9.95413</td>\n",
       "      <td>6.95235</td>\n",
       "      <td>9.90423</td>\n",
       "      <td>11.5725</td>\n",
       "      <td>12.1435</td>\n",
       "      <td>...</td>\n",
       "      <td>7.97884</td>\n",
       "      <td>7.85598</td>\n",
       "      <td>6.91625</td>\n",
       "      <td>6.31278</td>\n",
       "      <td>7.66934</td>\n",
       "      <td>7.36681</td>\n",
       "      <td>6.74076</td>\n",
       "      <td>6.83461</td>\n",
       "      <td>6.37602</td>\n",
       "      <td>7.00359</td>\n",
       "    </tr>\n",
       "  </tbody>\n",
       "</table>\n",
       "<p>5 rows × 12626 columns</p>\n",
       "</div>"
      ],
      "text/plain": [
       "           1000_at  1001_at  1002_f_at  1003_s_at  1004_at   1005_at  1006_at  \\\n",
       "GSM555237  9.47197  8.07568    7.33523    9.47628  8.79882  10.17860  7.04276   \n",
       "GSM555239  9.74422  8.36888    7.50925    9.62127  9.14707   9.56436  6.97457   \n",
       "GSM555241  9.39861  8.11010    7.48819    9.45165  9.01776   9.90201  6.92717   \n",
       "GSM555243  9.47081  8.26302    7.49526    9.48732  9.15347   9.92112  7.01103   \n",
       "GSM555245  9.51046  8.32918    7.42857    9.37714  9.06630   9.95413  6.95235   \n",
       "\n",
       "           1007_s_at  1008_f_at  1009_at  ...  AFFX-ThrX-3_at  AFFX-ThrX-5_at  \\\n",
       "GSM555237    9.68760    11.7491  12.2487  ...         8.10963         8.24015   \n",
       "GSM555239   10.06410    11.2478  11.6496  ...         7.65618         7.74903   \n",
       "GSM555241    9.82471    11.7372  11.8027  ...         8.27807         8.11228   \n",
       "GSM555243   10.09450    11.8627  12.0252  ...         7.91000         7.97068   \n",
       "GSM555245    9.90423    11.5725  12.1435  ...         7.97884         7.85598   \n",
       "\n",
       "           AFFX-ThrX-M_at  AFFX-TrpnX-3_at  AFFX-TrpnX-5_at  AFFX-TrpnX-M_at  \\\n",
       "GSM555237         6.82856          6.15432          7.52008          7.36990   \n",
       "GSM555239         6.57203          5.88055          7.63682          7.16841   \n",
       "GSM555241         7.03743          6.44215          7.73843          7.28745   \n",
       "GSM555243         6.89846          6.13764          7.59757          7.53081   \n",
       "GSM555245         6.91625          6.31278          7.66934          7.36681   \n",
       "\n",
       "           AFFX-YEL002c/WBP1_at  AFFX-YEL018w/_at  AFFX-YEL021w/URA3_at  \\\n",
       "GSM555237               6.70451           6.88676               6.52184   \n",
       "GSM555239               6.73947           6.56266               6.41881   \n",
       "GSM555241               6.98473           6.95697               6.66408   \n",
       "GSM555243               6.31709           6.76735               6.89247   \n",
       "GSM555245               6.74076           6.83461               6.37602   \n",
       "\n",
       "           AFFX-YEL024w/RIP1_at  \n",
       "GSM555237               7.24694  \n",
       "GSM555239               6.91550  \n",
       "GSM555241               7.41208  \n",
       "GSM555243               7.06424  \n",
       "GSM555245               7.00359  \n",
       "\n",
       "[5 rows x 12626 columns]"
      ]
     },
     "execution_count": 477,
     "metadata": {},
     "output_type": "execute_result"
    }
   ],
   "source": [
    "data_set = data_set.transpose()\n",
    "data_set.head()"
   ]
  },
  {
   "cell_type": "markdown",
   "metadata": {},
   "source": [
    "#### Exploração dos dados"
   ]
  },
  {
   "cell_type": "code",
   "execution_count": 478,
   "metadata": {},
   "outputs": [
    {
     "data": {
      "text/html": [
       "<div>\n",
       "<style scoped>\n",
       "    .dataframe tbody tr th:only-of-type {\n",
       "        vertical-align: middle;\n",
       "    }\n",
       "\n",
       "    .dataframe tbody tr th {\n",
       "        vertical-align: top;\n",
       "    }\n",
       "\n",
       "    .dataframe thead th {\n",
       "        text-align: right;\n",
       "    }\n",
       "</style>\n",
       "<table border=\"1\" class=\"dataframe\">\n",
       "  <thead>\n",
       "    <tr style=\"text-align: right;\">\n",
       "      <th></th>\n",
       "      <th>1000_at</th>\n",
       "      <th>1001_at</th>\n",
       "      <th>1002_f_at</th>\n",
       "      <th>1003_s_at</th>\n",
       "      <th>1004_at</th>\n",
       "      <th>1005_at</th>\n",
       "      <th>1006_at</th>\n",
       "      <th>1007_s_at</th>\n",
       "      <th>1008_f_at</th>\n",
       "      <th>1009_at</th>\n",
       "      <th>...</th>\n",
       "      <th>AFFX-ThrX-3_at</th>\n",
       "      <th>AFFX-ThrX-5_at</th>\n",
       "      <th>AFFX-ThrX-M_at</th>\n",
       "      <th>AFFX-TrpnX-3_at</th>\n",
       "      <th>AFFX-TrpnX-5_at</th>\n",
       "      <th>AFFX-TrpnX-M_at</th>\n",
       "      <th>AFFX-YEL002c/WBP1_at</th>\n",
       "      <th>AFFX-YEL018w/_at</th>\n",
       "      <th>AFFX-YEL021w/URA3_at</th>\n",
       "      <th>AFFX-YEL024w/RIP1_at</th>\n",
       "    </tr>\n",
       "  </thead>\n",
       "  <tbody>\n",
       "    <tr>\n",
       "      <th>count</th>\n",
       "      <td>110.000000</td>\n",
       "      <td>110.000000</td>\n",
       "      <td>110.000000</td>\n",
       "      <td>110.000000</td>\n",
       "      <td>110.000000</td>\n",
       "      <td>110.000000</td>\n",
       "      <td>110.000000</td>\n",
       "      <td>110.000000</td>\n",
       "      <td>110.000000</td>\n",
       "      <td>110.000000</td>\n",
       "      <td>...</td>\n",
       "      <td>110.000000</td>\n",
       "      <td>110.000000</td>\n",
       "      <td>110.000000</td>\n",
       "      <td>110.000000</td>\n",
       "      <td>110.000000</td>\n",
       "      <td>110.000000</td>\n",
       "      <td>110.000000</td>\n",
       "      <td>110.000000</td>\n",
       "      <td>110.000000</td>\n",
       "      <td>110.000000</td>\n",
       "    </tr>\n",
       "    <tr>\n",
       "      <th>mean</th>\n",
       "      <td>9.433375</td>\n",
       "      <td>8.137768</td>\n",
       "      <td>7.249281</td>\n",
       "      <td>9.313599</td>\n",
       "      <td>8.921853</td>\n",
       "      <td>10.166050</td>\n",
       "      <td>6.887088</td>\n",
       "      <td>9.794328</td>\n",
       "      <td>11.753509</td>\n",
       "      <td>11.960149</td>\n",
       "      <td>...</td>\n",
       "      <td>7.728605</td>\n",
       "      <td>7.692159</td>\n",
       "      <td>6.647234</td>\n",
       "      <td>6.157031</td>\n",
       "      <td>7.315901</td>\n",
       "      <td>7.146825</td>\n",
       "      <td>6.806594</td>\n",
       "      <td>6.719551</td>\n",
       "      <td>6.679924</td>\n",
       "      <td>7.144345</td>\n",
       "    </tr>\n",
       "    <tr>\n",
       "      <th>std</th>\n",
       "      <td>0.173506</td>\n",
       "      <td>0.286459</td>\n",
       "      <td>0.174798</td>\n",
       "      <td>0.203006</td>\n",
       "      <td>0.333875</td>\n",
       "      <td>0.409801</td>\n",
       "      <td>0.185361</td>\n",
       "      <td>0.280446</td>\n",
       "      <td>0.323999</td>\n",
       "      <td>0.392596</td>\n",
       "      <td>...</td>\n",
       "      <td>0.362514</td>\n",
       "      <td>0.342224</td>\n",
       "      <td>0.290526</td>\n",
       "      <td>0.232761</td>\n",
       "      <td>0.279111</td>\n",
       "      <td>0.284752</td>\n",
       "      <td>0.326818</td>\n",
       "      <td>0.302805</td>\n",
       "      <td>0.342735</td>\n",
       "      <td>0.313338</td>\n",
       "    </tr>\n",
       "    <tr>\n",
       "      <th>min</th>\n",
       "      <td>8.727980</td>\n",
       "      <td>6.856040</td>\n",
       "      <td>6.799770</td>\n",
       "      <td>8.884460</td>\n",
       "      <td>8.136820</td>\n",
       "      <td>9.087930</td>\n",
       "      <td>6.364770</td>\n",
       "      <td>8.145820</td>\n",
       "      <td>9.923840</td>\n",
       "      <td>8.889030</td>\n",
       "      <td>...</td>\n",
       "      <td>6.790640</td>\n",
       "      <td>6.862170</td>\n",
       "      <td>5.830750</td>\n",
       "      <td>5.567290</td>\n",
       "      <td>6.527080</td>\n",
       "      <td>6.342360</td>\n",
       "      <td>6.003730</td>\n",
       "      <td>5.844350</td>\n",
       "      <td>5.863390</td>\n",
       "      <td>6.191120</td>\n",
       "    </tr>\n",
       "    <tr>\n",
       "      <th>25%</th>\n",
       "      <td>9.338400</td>\n",
       "      <td>7.989870</td>\n",
       "      <td>7.137645</td>\n",
       "      <td>9.185415</td>\n",
       "      <td>8.720905</td>\n",
       "      <td>9.899745</td>\n",
       "      <td>6.770060</td>\n",
       "      <td>9.638288</td>\n",
       "      <td>11.642075</td>\n",
       "      <td>11.864950</td>\n",
       "      <td>...</td>\n",
       "      <td>7.474612</td>\n",
       "      <td>7.452592</td>\n",
       "      <td>6.494048</td>\n",
       "      <td>6.022815</td>\n",
       "      <td>7.157235</td>\n",
       "      <td>6.976488</td>\n",
       "      <td>6.603220</td>\n",
       "      <td>6.517505</td>\n",
       "      <td>6.497662</td>\n",
       "      <td>6.955513</td>\n",
       "    </tr>\n",
       "    <tr>\n",
       "      <th>50%</th>\n",
       "      <td>9.461525</td>\n",
       "      <td>8.120410</td>\n",
       "      <td>7.214910</td>\n",
       "      <td>9.275770</td>\n",
       "      <td>8.855355</td>\n",
       "      <td>10.108550</td>\n",
       "      <td>6.888730</td>\n",
       "      <td>9.841580</td>\n",
       "      <td>11.793750</td>\n",
       "      <td>12.011600</td>\n",
       "      <td>...</td>\n",
       "      <td>7.676520</td>\n",
       "      <td>7.680100</td>\n",
       "      <td>6.633285</td>\n",
       "      <td>6.143125</td>\n",
       "      <td>7.307245</td>\n",
       "      <td>7.171265</td>\n",
       "      <td>6.761415</td>\n",
       "      <td>6.707940</td>\n",
       "      <td>6.622075</td>\n",
       "      <td>7.113575</td>\n",
       "    </tr>\n",
       "    <tr>\n",
       "      <th>75%</th>\n",
       "      <td>9.517385</td>\n",
       "      <td>8.311505</td>\n",
       "      <td>7.372125</td>\n",
       "      <td>9.448535</td>\n",
       "      <td>9.061335</td>\n",
       "      <td>10.365850</td>\n",
       "      <td>6.973603</td>\n",
       "      <td>9.950172</td>\n",
       "      <td>11.952225</td>\n",
       "      <td>12.170000</td>\n",
       "      <td>...</td>\n",
       "      <td>7.920230</td>\n",
       "      <td>7.935722</td>\n",
       "      <td>6.810230</td>\n",
       "      <td>6.287793</td>\n",
       "      <td>7.472637</td>\n",
       "      <td>7.296510</td>\n",
       "      <td>7.023505</td>\n",
       "      <td>6.906293</td>\n",
       "      <td>6.764705</td>\n",
       "      <td>7.300192</td>\n",
       "    </tr>\n",
       "    <tr>\n",
       "      <th>max</th>\n",
       "      <td>10.118200</td>\n",
       "      <td>9.161650</td>\n",
       "      <td>7.833590</td>\n",
       "      <td>10.319400</td>\n",
       "      <td>10.338700</td>\n",
       "      <td>11.428200</td>\n",
       "      <td>7.629090</td>\n",
       "      <td>10.322700</td>\n",
       "      <td>12.277500</td>\n",
       "      <td>12.483500</td>\n",
       "      <td>...</td>\n",
       "      <td>8.672780</td>\n",
       "      <td>8.576580</td>\n",
       "      <td>7.707790</td>\n",
       "      <td>7.015970</td>\n",
       "      <td>8.745280</td>\n",
       "      <td>8.130270</td>\n",
       "      <td>7.539870</td>\n",
       "      <td>7.754020</td>\n",
       "      <td>9.056460</td>\n",
       "      <td>8.194940</td>\n",
       "    </tr>\n",
       "  </tbody>\n",
       "</table>\n",
       "<p>8 rows × 12626 columns</p>\n",
       "</div>"
      ],
      "text/plain": [
       "          1000_at     1001_at   1002_f_at   1003_s_at     1004_at     1005_at  \\\n",
       "count  110.000000  110.000000  110.000000  110.000000  110.000000  110.000000   \n",
       "mean     9.433375    8.137768    7.249281    9.313599    8.921853   10.166050   \n",
       "std      0.173506    0.286459    0.174798    0.203006    0.333875    0.409801   \n",
       "min      8.727980    6.856040    6.799770    8.884460    8.136820    9.087930   \n",
       "25%      9.338400    7.989870    7.137645    9.185415    8.720905    9.899745   \n",
       "50%      9.461525    8.120410    7.214910    9.275770    8.855355   10.108550   \n",
       "75%      9.517385    8.311505    7.372125    9.448535    9.061335   10.365850   \n",
       "max     10.118200    9.161650    7.833590   10.319400   10.338700   11.428200   \n",
       "\n",
       "          1006_at   1007_s_at   1008_f_at     1009_at  ...  AFFX-ThrX-3_at  \\\n",
       "count  110.000000  110.000000  110.000000  110.000000  ...      110.000000   \n",
       "mean     6.887088    9.794328   11.753509   11.960149  ...        7.728605   \n",
       "std      0.185361    0.280446    0.323999    0.392596  ...        0.362514   \n",
       "min      6.364770    8.145820    9.923840    8.889030  ...        6.790640   \n",
       "25%      6.770060    9.638288   11.642075   11.864950  ...        7.474612   \n",
       "50%      6.888730    9.841580   11.793750   12.011600  ...        7.676520   \n",
       "75%      6.973603    9.950172   11.952225   12.170000  ...        7.920230   \n",
       "max      7.629090   10.322700   12.277500   12.483500  ...        8.672780   \n",
       "\n",
       "       AFFX-ThrX-5_at  AFFX-ThrX-M_at  AFFX-TrpnX-3_at  AFFX-TrpnX-5_at  \\\n",
       "count      110.000000      110.000000       110.000000       110.000000   \n",
       "mean         7.692159        6.647234         6.157031         7.315901   \n",
       "std          0.342224        0.290526         0.232761         0.279111   \n",
       "min          6.862170        5.830750         5.567290         6.527080   \n",
       "25%          7.452592        6.494048         6.022815         7.157235   \n",
       "50%          7.680100        6.633285         6.143125         7.307245   \n",
       "75%          7.935722        6.810230         6.287793         7.472637   \n",
       "max          8.576580        7.707790         7.015970         8.745280   \n",
       "\n",
       "       AFFX-TrpnX-M_at  AFFX-YEL002c/WBP1_at  AFFX-YEL018w/_at  \\\n",
       "count       110.000000            110.000000        110.000000   \n",
       "mean          7.146825              6.806594          6.719551   \n",
       "std           0.284752              0.326818          0.302805   \n",
       "min           6.342360              6.003730          5.844350   \n",
       "25%           6.976488              6.603220          6.517505   \n",
       "50%           7.171265              6.761415          6.707940   \n",
       "75%           7.296510              7.023505          6.906293   \n",
       "max           8.130270              7.539870          7.754020   \n",
       "\n",
       "       AFFX-YEL021w/URA3_at  AFFX-YEL024w/RIP1_at  \n",
       "count            110.000000            110.000000  \n",
       "mean               6.679924              7.144345  \n",
       "std                0.342735              0.313338  \n",
       "min                5.863390              6.191120  \n",
       "25%                6.497662              6.955513  \n",
       "50%                6.622075              7.113575  \n",
       "75%                6.764705              7.300192  \n",
       "max                9.056460              8.194940  \n",
       "\n",
       "[8 rows x 12626 columns]"
      ]
     },
     "execution_count": 478,
     "metadata": {},
     "output_type": "execute_result"
    }
   ],
   "source": [
    "#Exploração por genes\n",
    "data_set.describe()"
   ]
  },
  {
   "cell_type": "code",
   "execution_count": 479,
   "metadata": {},
   "outputs": [
    {
     "data": {
      "text/html": [
       "<div>\n",
       "<style scoped>\n",
       "    .dataframe tbody tr th:only-of-type {\n",
       "        vertical-align: middle;\n",
       "    }\n",
       "\n",
       "    .dataframe tbody tr th {\n",
       "        vertical-align: top;\n",
       "    }\n",
       "\n",
       "    .dataframe thead th {\n",
       "        text-align: right;\n",
       "    }\n",
       "</style>\n",
       "<table border=\"1\" class=\"dataframe\">\n",
       "  <thead>\n",
       "    <tr style=\"text-align: right;\">\n",
       "      <th></th>\n",
       "      <th>GSM555237</th>\n",
       "      <th>GSM555239</th>\n",
       "      <th>GSM555241</th>\n",
       "      <th>GSM555243</th>\n",
       "      <th>GSM555245</th>\n",
       "      <th>GSM555247</th>\n",
       "      <th>GSM555249</th>\n",
       "      <th>GSM555251</th>\n",
       "      <th>GSM555253</th>\n",
       "      <th>GSM555255</th>\n",
       "      <th>...</th>\n",
       "      <th>GSM555328</th>\n",
       "      <th>GSM555330</th>\n",
       "      <th>GSM555332</th>\n",
       "      <th>GSM555334</th>\n",
       "      <th>GSM555336</th>\n",
       "      <th>GSM555338</th>\n",
       "      <th>GSM555340</th>\n",
       "      <th>GSM555342</th>\n",
       "      <th>GSM555344</th>\n",
       "      <th>GSM555346</th>\n",
       "    </tr>\n",
       "  </thead>\n",
       "  <tbody>\n",
       "    <tr>\n",
       "      <th>count</th>\n",
       "      <td>12626.000000</td>\n",
       "      <td>12626.000000</td>\n",
       "      <td>12626.000000</td>\n",
       "      <td>12626.000000</td>\n",
       "      <td>12626.000000</td>\n",
       "      <td>12626.000000</td>\n",
       "      <td>12626.000000</td>\n",
       "      <td>12626.000000</td>\n",
       "      <td>12626.000000</td>\n",
       "      <td>12626.000000</td>\n",
       "      <td>...</td>\n",
       "      <td>12626.000000</td>\n",
       "      <td>12626.000000</td>\n",
       "      <td>12626.000000</td>\n",
       "      <td>12626.000000</td>\n",
       "      <td>12626.000000</td>\n",
       "      <td>12626.000000</td>\n",
       "      <td>12626.000000</td>\n",
       "      <td>12626.000000</td>\n",
       "      <td>12626.000000</td>\n",
       "      <td>12626.000000</td>\n",
       "    </tr>\n",
       "    <tr>\n",
       "      <th>mean</th>\n",
       "      <td>8.351632</td>\n",
       "      <td>8.339648</td>\n",
       "      <td>8.340489</td>\n",
       "      <td>8.337528</td>\n",
       "      <td>8.331623</td>\n",
       "      <td>8.331028</td>\n",
       "      <td>8.326195</td>\n",
       "      <td>8.337964</td>\n",
       "      <td>8.347741</td>\n",
       "      <td>8.347889</td>\n",
       "      <td>...</td>\n",
       "      <td>8.343241</td>\n",
       "      <td>8.354708</td>\n",
       "      <td>8.325371</td>\n",
       "      <td>8.346193</td>\n",
       "      <td>8.339368</td>\n",
       "      <td>8.351220</td>\n",
       "      <td>8.341171</td>\n",
       "      <td>8.345277</td>\n",
       "      <td>8.347602</td>\n",
       "      <td>8.294715</td>\n",
       "    </tr>\n",
       "    <tr>\n",
       "      <th>std</th>\n",
       "      <td>1.709724</td>\n",
       "      <td>1.732502</td>\n",
       "      <td>1.706756</td>\n",
       "      <td>1.714488</td>\n",
       "      <td>1.725388</td>\n",
       "      <td>1.706533</td>\n",
       "      <td>1.723287</td>\n",
       "      <td>1.720769</td>\n",
       "      <td>1.707894</td>\n",
       "      <td>1.743823</td>\n",
       "      <td>...</td>\n",
       "      <td>1.739923</td>\n",
       "      <td>1.707750</td>\n",
       "      <td>1.694778</td>\n",
       "      <td>1.725379</td>\n",
       "      <td>1.722826</td>\n",
       "      <td>1.724360</td>\n",
       "      <td>1.720240</td>\n",
       "      <td>1.719404</td>\n",
       "      <td>1.715259</td>\n",
       "      <td>1.682770</td>\n",
       "    </tr>\n",
       "    <tr>\n",
       "      <th>min</th>\n",
       "      <td>5.300560</td>\n",
       "      <td>5.469590</td>\n",
       "      <td>5.352320</td>\n",
       "      <td>5.389880</td>\n",
       "      <td>5.384100</td>\n",
       "      <td>5.396070</td>\n",
       "      <td>5.386270</td>\n",
       "      <td>5.461560</td>\n",
       "      <td>5.424170</td>\n",
       "      <td>5.404920</td>\n",
       "      <td>...</td>\n",
       "      <td>5.489260</td>\n",
       "      <td>5.476240</td>\n",
       "      <td>5.522280</td>\n",
       "      <td>5.460750</td>\n",
       "      <td>5.504740</td>\n",
       "      <td>5.488880</td>\n",
       "      <td>5.486840</td>\n",
       "      <td>5.461950</td>\n",
       "      <td>5.497070</td>\n",
       "      <td>5.516910</td>\n",
       "    </tr>\n",
       "    <tr>\n",
       "      <th>25%</th>\n",
       "      <td>6.904590</td>\n",
       "      <td>6.859005</td>\n",
       "      <td>6.893133</td>\n",
       "      <td>6.891015</td>\n",
       "      <td>6.867978</td>\n",
       "      <td>6.882172</td>\n",
       "      <td>6.867035</td>\n",
       "      <td>6.887220</td>\n",
       "      <td>6.891763</td>\n",
       "      <td>6.863397</td>\n",
       "      <td>...</td>\n",
       "      <td>6.880667</td>\n",
       "      <td>6.916680</td>\n",
       "      <td>6.901943</td>\n",
       "      <td>6.897327</td>\n",
       "      <td>6.893460</td>\n",
       "      <td>6.896232</td>\n",
       "      <td>6.894448</td>\n",
       "      <td>6.903012</td>\n",
       "      <td>6.896160</td>\n",
       "      <td>6.886370</td>\n",
       "    </tr>\n",
       "    <tr>\n",
       "      <th>50%</th>\n",
       "      <td>8.254115</td>\n",
       "      <td>8.185875</td>\n",
       "      <td>8.220465</td>\n",
       "      <td>8.193855</td>\n",
       "      <td>8.189805</td>\n",
       "      <td>8.194865</td>\n",
       "      <td>8.193765</td>\n",
       "      <td>8.210535</td>\n",
       "      <td>8.208295</td>\n",
       "      <td>8.209410</td>\n",
       "      <td>...</td>\n",
       "      <td>8.228225</td>\n",
       "      <td>8.240520</td>\n",
       "      <td>8.209440</td>\n",
       "      <td>8.240035</td>\n",
       "      <td>8.222130</td>\n",
       "      <td>8.240020</td>\n",
       "      <td>8.219490</td>\n",
       "      <td>8.243005</td>\n",
       "      <td>8.230275</td>\n",
       "      <td>8.158200</td>\n",
       "    </tr>\n",
       "    <tr>\n",
       "      <th>75%</th>\n",
       "      <td>9.538625</td>\n",
       "      <td>9.540303</td>\n",
       "      <td>9.540352</td>\n",
       "      <td>9.531710</td>\n",
       "      <td>9.533740</td>\n",
       "      <td>9.537885</td>\n",
       "      <td>9.527832</td>\n",
       "      <td>9.530825</td>\n",
       "      <td>9.532010</td>\n",
       "      <td>9.550745</td>\n",
       "      <td>...</td>\n",
       "      <td>9.505677</td>\n",
       "      <td>9.504677</td>\n",
       "      <td>9.457500</td>\n",
       "      <td>9.505867</td>\n",
       "      <td>9.485205</td>\n",
       "      <td>9.511518</td>\n",
       "      <td>9.488972</td>\n",
       "      <td>9.494372</td>\n",
       "      <td>9.506920</td>\n",
       "      <td>9.424188</td>\n",
       "    </tr>\n",
       "    <tr>\n",
       "      <th>max</th>\n",
       "      <td>15.194100</td>\n",
       "      <td>15.209900</td>\n",
       "      <td>15.145600</td>\n",
       "      <td>15.182000</td>\n",
       "      <td>15.158400</td>\n",
       "      <td>15.159100</td>\n",
       "      <td>15.161200</td>\n",
       "      <td>15.218300</td>\n",
       "      <td>15.255600</td>\n",
       "      <td>15.264000</td>\n",
       "      <td>...</td>\n",
       "      <td>15.256900</td>\n",
       "      <td>15.274700</td>\n",
       "      <td>15.277500</td>\n",
       "      <td>15.256200</td>\n",
       "      <td>15.273400</td>\n",
       "      <td>15.255200</td>\n",
       "      <td>15.289600</td>\n",
       "      <td>15.287500</td>\n",
       "      <td>15.291300</td>\n",
       "      <td>15.299400</td>\n",
       "    </tr>\n",
       "  </tbody>\n",
       "</table>\n",
       "<p>8 rows × 110 columns</p>\n",
       "</div>"
      ],
      "text/plain": [
       "          GSM555237     GSM555239     GSM555241     GSM555243     GSM555245  \\\n",
       "count  12626.000000  12626.000000  12626.000000  12626.000000  12626.000000   \n",
       "mean       8.351632      8.339648      8.340489      8.337528      8.331623   \n",
       "std        1.709724      1.732502      1.706756      1.714488      1.725388   \n",
       "min        5.300560      5.469590      5.352320      5.389880      5.384100   \n",
       "25%        6.904590      6.859005      6.893133      6.891015      6.867978   \n",
       "50%        8.254115      8.185875      8.220465      8.193855      8.189805   \n",
       "75%        9.538625      9.540303      9.540352      9.531710      9.533740   \n",
       "max       15.194100     15.209900     15.145600     15.182000     15.158400   \n",
       "\n",
       "          GSM555247     GSM555249     GSM555251     GSM555253     GSM555255  \\\n",
       "count  12626.000000  12626.000000  12626.000000  12626.000000  12626.000000   \n",
       "mean       8.331028      8.326195      8.337964      8.347741      8.347889   \n",
       "std        1.706533      1.723287      1.720769      1.707894      1.743823   \n",
       "min        5.396070      5.386270      5.461560      5.424170      5.404920   \n",
       "25%        6.882172      6.867035      6.887220      6.891763      6.863397   \n",
       "50%        8.194865      8.193765      8.210535      8.208295      8.209410   \n",
       "75%        9.537885      9.527832      9.530825      9.532010      9.550745   \n",
       "max       15.159100     15.161200     15.218300     15.255600     15.264000   \n",
       "\n",
       "       ...     GSM555328     GSM555330     GSM555332     GSM555334  \\\n",
       "count  ...  12626.000000  12626.000000  12626.000000  12626.000000   \n",
       "mean   ...      8.343241      8.354708      8.325371      8.346193   \n",
       "std    ...      1.739923      1.707750      1.694778      1.725379   \n",
       "min    ...      5.489260      5.476240      5.522280      5.460750   \n",
       "25%    ...      6.880667      6.916680      6.901943      6.897327   \n",
       "50%    ...      8.228225      8.240520      8.209440      8.240035   \n",
       "75%    ...      9.505677      9.504677      9.457500      9.505867   \n",
       "max    ...     15.256900     15.274700     15.277500     15.256200   \n",
       "\n",
       "          GSM555336     GSM555338     GSM555340     GSM555342     GSM555344  \\\n",
       "count  12626.000000  12626.000000  12626.000000  12626.000000  12626.000000   \n",
       "mean       8.339368      8.351220      8.341171      8.345277      8.347602   \n",
       "std        1.722826      1.724360      1.720240      1.719404      1.715259   \n",
       "min        5.504740      5.488880      5.486840      5.461950      5.497070   \n",
       "25%        6.893460      6.896232      6.894448      6.903012      6.896160   \n",
       "50%        8.222130      8.240020      8.219490      8.243005      8.230275   \n",
       "75%        9.485205      9.511518      9.488972      9.494372      9.506920   \n",
       "max       15.273400     15.255200     15.289600     15.287500     15.291300   \n",
       "\n",
       "          GSM555346  \n",
       "count  12626.000000  \n",
       "mean       8.294715  \n",
       "std        1.682770  \n",
       "min        5.516910  \n",
       "25%        6.886370  \n",
       "50%        8.158200  \n",
       "75%        9.424188  \n",
       "max       15.299400  \n",
       "\n",
       "[8 rows x 110 columns]"
      ]
     },
     "execution_count": 479,
     "metadata": {},
     "output_type": "execute_result"
    }
   ],
   "source": [
    "#Exploração por amostras\n",
    "data_set.transpose().describe()"
   ]
  },
  {
   "cell_type": "code",
   "execution_count": 480,
   "metadata": {},
   "outputs": [
    {
     "data": {
      "text/plain": [
       "disease.state\n",
       "diabetic             30\n",
       "insulin resistant    40\n",
       "insulin sensitive    40\n",
       "dtype: int64"
      ]
     },
     "execution_count": 480,
     "metadata": {},
     "output_type": "execute_result"
    }
   ],
   "source": [
    "meta_data.groupby('disease.state').size()"
   ]
  },
  {
   "cell_type": "code",
   "execution_count": 481,
   "metadata": {},
   "outputs": [
    {
     "data": {
      "text/plain": [
       "agent\n",
       "insulin      55\n",
       "untreated    55\n",
       "dtype: int64"
      ]
     },
     "execution_count": 481,
     "metadata": {},
     "output_type": "execute_result"
    }
   ],
   "source": [
    "meta_data.groupby('agent').size()"
   ]
  },
  {
   "cell_type": "markdown",
   "metadata": {},
   "source": [
    "#### Verificação de missing values"
   ]
  },
  {
   "cell_type": "code",
   "execution_count": 482,
   "metadata": {},
   "outputs": [
    {
     "data": {
      "text/plain": [
       "0"
      ]
     },
     "execution_count": 482,
     "metadata": {},
     "output_type": "execute_result"
    }
   ],
   "source": [
    "data_set.isnull().sum().sum()"
   ]
  },
  {
   "cell_type": "code",
   "execution_count": 483,
   "metadata": {},
   "outputs": [
    {
     "data": {
      "text/plain": [
       "0"
      ]
     },
     "execution_count": 483,
     "metadata": {},
     "output_type": "execute_result"
    }
   ],
   "source": [
    "meta_data.isnull().sum().sum()"
   ]
  },
  {
   "cell_type": "markdown",
   "metadata": {},
   "source": [
    "#### Exploração gráfica"
   ]
  },
  {
   "cell_type": "code",
   "execution_count": 484,
   "metadata": {},
   "outputs": [
    {
     "data": {
      "text/plain": [
       "<Axes: >"
      ]
     },
     "execution_count": 484,
     "metadata": {},
     "output_type": "execute_result"
    },
    {
     "data": {
      "image/png": "[encoded data removed]",
      "text/plain": [
       "<Figure size 640x480 with 1 Axes>"
      ]
     },
     "metadata": {},
     "output_type": "display_data"
    }
   ],
   "source": [
    "meta_data.groupby(\"disease.state\").size().plot.pie()"
   ]
  },
  {
   "cell_type": "code",
   "execution_count": 485,
   "metadata": {},
   "outputs": [
    {
     "data": {
      "text/plain": [
       "<Axes: >"
      ]
     },
     "execution_count": 485,
     "metadata": {},
     "output_type": "execute_result"
    },
    {
     "data": {
      "image/png": "[encoded data removed]",
      "text/plain": [
       "<Figure size 640x480 with 1 Axes>"
      ]
     },
     "metadata": {},
     "output_type": "display_data"
    }
   ],
   "source": [
    "meta_data.groupby(\"agent\").size().plot.pie()"
   ]
  },
  {
   "cell_type": "markdown",
   "metadata": {},
   "source": [
    "### Secção 2"
   ]
  },
  {
   "cell_type": "markdown",
   "metadata": {},
   "source": [
    "#### Redução da dimensionalidade de acordo com a expressão genética diferencial"
   ]
  },
  {
   "cell_type": "code",
   "execution_count": 486,
   "metadata": {},
   "outputs": [],
   "source": [
    "input_data = data_set.values"
   ]
  },
  {
   "cell_type": "markdown",
   "metadata": {},
   "source": [
    "Selecionar os genes com valores de p-value menores que 0.01 (valor presente na literatura):"
   ]
  },
  {
   "cell_type": "markdown",
   "metadata": {},
   "source": [
    "* Variável: tipo de doença (f_classif: ANOVA)"
   ]
  },
  {
   "cell_type": "code",
   "execution_count": 487,
   "metadata": {},
   "outputs": [
    {
     "name": "stdout",
     "output_type": "stream",
     "text": [
      "Index(['1007_s_at', '1008_f_at', '1009_at', '1012_at', '1013_at', '1018_at',\n",
      "       '1023_at', '1027_at', '1028_at', '1029_s_at',\n",
      "       ...\n",
      "       'AFFX-HUMRGE/M10098_M_at', 'AFFX-HUMTFRR/M11507_M_at', 'AFFX-LysX-3_at',\n",
      "       'AFFX-LysX-5_at', 'AFFX-LysX-M_at', 'AFFX-M27830_5_at',\n",
      "       'AFFX-M27830_M_at', 'AFFX-PheX-3_at', 'AFFX-PheX-M_at',\n",
      "       'AFFX-ThrX-5_at'],\n",
      "      dtype='object', length=6260)\n"
     ]
    }
   ],
   "source": [
    "from sklearn.feature_selection import SelectPercentile, f_classif\n",
    "\n",
    "\n",
    "selector = SelectPercentile(f_classif, percentile=10)\n",
    "\n",
    "output_disease = meta_data.values[:,1]\n",
    "\n",
    "selector.fit_transform(data_set, output_disease)\n",
    "genes_de = np.where(selector.pvalues_ <0.01)\n",
    "\n",
    "print(data_set.columns[genes_de])"
   ]
  },
  {
   "cell_type": "markdown",
   "metadata": {},
   "source": [
    "* Variável: tratamento ou não com insulina (f_classif: t-test)"
   ]
  },
  {
   "cell_type": "code",
   "execution_count": 488,
   "metadata": {},
   "outputs": [
    {
     "name": "stdout",
     "output_type": "stream",
     "text": [
      "Index(['1005_at', '1052_s_at', '1081_at', '1171_s_at', '1176_at', '1191_s_at',\n",
      "       '1199_at', '1235_at', '1237_at', '1244_at',\n",
      "       ...\n",
      "       '875_g_at', '911_s_at', '924_s_at', '934_at', '973_at', '974_at',\n",
      "       'AFFX-BioB-5_at', 'AFFX-LysX-3_at', 'AFFX-LysX-5_at', 'AFFX-LysX-M_at'],\n",
      "      dtype='object', length=297)\n"
     ]
    }
   ],
   "source": [
    "from sklearn.feature_selection import SelectPercentile, f_classif\n",
    "\n",
    "\n",
    "selector = SelectPercentile(f_classif, percentile=10)\n",
    "\n",
    "output_treatment = meta_data.values[:,2]\n",
    "\n",
    "selector.fit_transform(data_set, output_treatment)\n",
    "genes_tr = np.where(selector.pvalues_ <0.01)\n",
    "\n",
    "print(data_set.columns[genes_tr])"
   ]
  },
  {
   "cell_type": "markdown",
   "metadata": {},
   "source": [
    "### Secção 3"
   ]
  },
  {
   "cell_type": "markdown",
   "metadata": {},
   "source": [
    "### Modelos de Machine Learning"
   ]
  },
  {
   "cell_type": "markdown",
   "metadata": {},
   "source": [
    "#### Normalização dos dados"
   ]
  },
  {
   "cell_type": "code",
   "execution_count": 489,
   "metadata": {},
   "outputs": [
    {
     "name": "stdout",
     "output_type": "stream",
     "text": [
      "Average:  -9.331609737672788e-18\n",
      "Standard Deviation:  1.0000000000000002\n"
     ]
    }
   ],
   "source": [
    "from sklearn import preprocessing\n",
    "\n",
    "input_sc = preprocessing.scale(input_data)\n",
    "\n",
    "print(\"Average: \", input_sc.mean())\n",
    "print(\"Standard Deviation: \", input_sc.std())"
   ]
  },
  {
   "cell_type": "markdown",
   "metadata": {},
   "source": [
    "Para os modelos testados, somente são considerados os genes que foram identificados como diferencialmente expressos em relação ao tipo de doença ou ao tratamento com insulina, uma vez que a inclusão de todos os genes pode causar em uma pior performance dos modelos de Machine Learning."
   ]
  },
  {
   "cell_type": "markdown",
   "metadata": {},
   "source": [
    "Além disso, para cada modelo serão aplicados 2 métodos de partição de dados: Hold-Out Sample com 70% de dados para treino e 30% para teste e Cross-Validation com 5 folds."
   ]
  },
  {
   "cell_type": "markdown",
   "metadata": {},
   "source": [
    "##### Variável: tipo de doença "
   ]
  },
  {
   "cell_type": "code",
   "execution_count": 490,
   "metadata": {},
   "outputs": [
    {
     "name": "stdout",
     "output_type": "stream",
     "text": [
      "(110, 6260)\n"
     ]
    }
   ],
   "source": [
    "input_sc_filt2 = input_sc[:,genes_de[0]]\n",
    "\n",
    "print(input_sc_filt2.shape)"
   ]
  },
  {
   "cell_type": "markdown",
   "metadata": {},
   "source": [
    "1. Hold-out Sample: 70% treino e 30% teste"
   ]
  },
  {
   "cell_type": "code",
   "execution_count": 491,
   "metadata": {},
   "outputs": [],
   "source": [
    "from sklearn.model_selection import train_test_split\n",
    "\n",
    "# 2/3 of samples for the train set; 1/3 for the train set;\n",
    "train_in, test_in, train_out, test_out = train_test_split(input_sc_filt2, output_disease, test_size=1/3, random_state=32,  stratify=output_disease)"
   ]
  },
  {
   "cell_type": "markdown",
   "metadata": {},
   "source": [
    "* K-Nearest Neighbors (KNN)"
   ]
  },
  {
   "cell_type": "code",
   "execution_count": 492,
   "metadata": {},
   "outputs": [
    {
     "name": "stdout",
     "output_type": "stream",
     "text": [
      "Correct Predition Percentage:  0.7297297297297297\n",
      "Precision:  0.7297297297297297\n",
      "[[9 1 0]\n",
      " [4 9 0]\n",
      " [1 4 9]]\n"
     ]
    }
   ],
   "source": [
    "from sklearn.neighbors import KNeighborsClassifier\n",
    "from sklearn.metrics import confusion_matrix\n",
    "from sklearn.metrics import precision_score\n",
    "\n",
    "knn = KNeighborsClassifier()\n",
    "knn.fit(train_in, train_out)\n",
    "preds = knn.predict(test_in)\n",
    "\n",
    "\n",
    "print(\"Correct Predition Percentage: \", (preds == test_out).sum()/len(preds) )\n",
    "print(\"Precision: \", precision_score(test_out, preds, average='micro') )\n",
    "\n",
    "print(confusion_matrix(test_out, preds))"
   ]
  },
  {
   "cell_type": "markdown",
   "metadata": {},
   "source": [
    "* Decision Tree (DT)"
   ]
  },
  {
   "cell_type": "code",
   "execution_count": 493,
   "metadata": {},
   "outputs": [
    {
     "name": "stdout",
     "output_type": "stream",
     "text": [
      "Correct Predition Percentage:  0.7297297297297297\n",
      "Confusion Matrix: \n",
      "[[ 8  2  0]\n",
      " [ 5  6  2]\n",
      " [ 0  1 13]]\n",
      "Precision:  0.7297297297297297\n"
     ]
    }
   ],
   "source": [
    "from sklearn import tree\n",
    "\n",
    "tree_model = tree.DecisionTreeClassifier()\n",
    "tree_model = tree_model.fit(train_in, train_out)\n",
    "preds_tree = tree_model.predict(test_in)\n",
    "\n",
    "print(\"Correct Predition Percentage: \", (preds_tree == test_out).sum()/len(preds_tree) )\n",
    "print(\"Confusion Matrix: \")\n",
    "print(confusion_matrix(test_out, preds_tree) )\n",
    "print(\"Precision: \", precision_score(test_out, preds_tree, average='micro') )\n"
   ]
  },
  {
   "cell_type": "markdown",
   "metadata": {},
   "source": [
    "* Random Forest"
   ]
  },
  {
   "cell_type": "code",
   "execution_count": 494,
   "metadata": {},
   "outputs": [
    {
     "name": "stdout",
     "output_type": "stream",
     "text": [
      "Correct Predition Percentage:  0.7567567567567568\n",
      "Confusion Matrix: \n",
      "[[10  0  0]\n",
      " [ 4  8  1]\n",
      " [ 1  3 10]]\n",
      "Precision:  0.7567567567567568\n"
     ]
    }
   ],
   "source": [
    "from sklearn.ensemble import RandomForestClassifier\n",
    "rf = RandomForestClassifier()\n",
    "rf.fit(train_in, train_out)\n",
    "preds = rf.predict(test_in)\n",
    "print(\"Correct Predition Percentage: \", (preds == test_out).sum()/len(preds) )\n",
    "print(\"Confusion Matrix: \")\n",
    "print(confusion_matrix(test_out, preds))\n",
    "print(\"Precision: \", precision_score(test_out, preds, average='micro') )\n"
   ]
  },
  {
   "cell_type": "markdown",
   "metadata": {},
   "source": [
    "2. Cross Validation (5 folds)"
   ]
  },
  {
   "cell_type": "markdown",
   "metadata": {},
   "source": [
    "- K-Nearest Neighbors (KNN)"
   ]
  },
  {
   "cell_type": "code",
   "execution_count": 495,
   "metadata": {},
   "outputs": [
    {
     "name": "stdout",
     "output_type": "stream",
     "text": [
      "[0.81818182 0.81818182 0.72727273 0.86363636 0.59090909]\n",
      "0.7636363636363637\n",
      "[0.86363636 0.81818182 0.90909091 0.72727273 0.59090909]\n",
      "0.7818181818181819\n"
     ]
    }
   ],
   "source": [
    "from sklearn.model_selection import cross_val_score\n",
    "\n",
    "knn = KNeighborsClassifier()\n",
    "cv_scores = cross_val_score(knn, input_sc_filt2, output_disease, cv=5)\n",
    "precision = cross_val_score(rf, input_sc_filt2, output_disease, cv=5, scoring='precision_micro')\n",
    "\n",
    "print(cv_scores)\n",
    "print(cv_scores.mean())\n",
    "print(precision)\n",
    "print(precision.mean())\n"
   ]
  },
  {
   "cell_type": "markdown",
   "metadata": {},
   "source": [
    "* Decision Tree (DT)"
   ]
  },
  {
   "cell_type": "code",
   "execution_count": 496,
   "metadata": {},
   "outputs": [
    {
     "name": "stdout",
     "output_type": "stream",
     "text": [
      "[0.77272727 0.86363636 0.77272727 0.63636364 0.59090909]\n",
      "0.7272727272727273\n",
      "[0.86363636 0.81818182 0.86363636 0.81818182 0.63636364]\n",
      "0.8\n"
     ]
    }
   ],
   "source": [
    "tree_model = tree.DecisionTreeClassifier()\n",
    "cv_scores = cross_val_score(tree_model, input_sc_filt2, output_disease, cv=5)\n",
    "precision = cross_val_score(rf, input_sc_filt2, output_disease, cv=5, scoring='precision_micro')\n",
    "\n",
    "print(cv_scores)\n",
    "print(cv_scores.mean())\n",
    "print(precision)\n",
    "print(precision.mean())"
   ]
  },
  {
   "cell_type": "markdown",
   "metadata": {},
   "source": [
    "* Random Forest"
   ]
  },
  {
   "cell_type": "code",
   "execution_count": 497,
   "metadata": {},
   "outputs": [
    {
     "name": "stdout",
     "output_type": "stream",
     "text": [
      "[0.81818182 0.81818182 0.95454545 0.77272727 0.59090909]\n",
      "0.7909090909090908\n",
      "[0.86363636 0.77272727 0.90909091 0.77272727 0.59090909]\n",
      "0.7818181818181819\n"
     ]
    }
   ],
   "source": [
    "rf = RandomForestClassifier()\n",
    "cv_scores = cross_val_score(rf, input_sc_filt2, output_disease, cv=5)\n",
    "precision = cross_val_score(rf, input_sc_filt2, output_disease, cv=5, scoring='precision_micro')\n",
    "\n",
    "print(cv_scores)\n",
    "print(cv_scores.mean())\n",
    "print(precision)\n",
    "print(precision.mean())"
   ]
  },
  {
   "cell_type": "markdown",
   "metadata": {},
   "source": [
    "#### Variável: tratamento ou não com insulina"
   ]
  },
  {
   "cell_type": "code",
   "execution_count": 498,
   "metadata": {},
   "outputs": [
    {
     "name": "stdout",
     "output_type": "stream",
     "text": [
      "(110, 297)\n"
     ]
    }
   ],
   "source": [
    "input_sc_filt2 = input_sc[:,genes_tr[0]]\n",
    "\n",
    "print(input_sc_filt2.shape)"
   ]
  },
  {
   "cell_type": "markdown",
   "metadata": {},
   "source": [
    "1. Hold-out Sample: 70% treino e 30% teste"
   ]
  },
  {
   "cell_type": "code",
   "execution_count": 499,
   "metadata": {},
   "outputs": [],
   "source": [
    "from sklearn.model_selection import train_test_split\n",
    "\n",
    "# 2/3 of samples for the train set; 1/3 for the train set;\n",
    "train_in, test_in, train_out, test_out = train_test_split(input_sc_filt2, output_disease, test_size=1/3, random_state=32,  stratify=output_disease)"
   ]
  },
  {
   "cell_type": "markdown",
   "metadata": {},
   "source": [
    "* K-Nearest Neighbors (KNN)"
   ]
  },
  {
   "cell_type": "code",
   "execution_count": 500,
   "metadata": {},
   "outputs": [
    {
     "name": "stdout",
     "output_type": "stream",
     "text": [
      "Correct Predition Percentage:  0.6486486486486487\n",
      "[[ 7  2  1]\n",
      " [ 4  7  2]\n",
      " [ 1  3 10]]\n",
      "Precision:  0.6486486486486487\n"
     ]
    }
   ],
   "source": [
    "knn = KNeighborsClassifier()\n",
    "knn.fit(train_in, train_out)\n",
    "preds = knn.predict(test_in)\n",
    "\n",
    "\n",
    "print(\"Correct Predition Percentage: \", (preds == test_out).sum()/len(preds) )\n",
    "print(confusion_matrix(test_out, preds))\n",
    "print(\"Precision: \", precision_score(test_out, preds, average='micro') )"
   ]
  },
  {
   "cell_type": "markdown",
   "metadata": {},
   "source": [
    "* Decision Tree (DT)"
   ]
  },
  {
   "cell_type": "code",
   "execution_count": 501,
   "metadata": {},
   "outputs": [
    {
     "name": "stdout",
     "output_type": "stream",
     "text": [
      "Correct Predition Percentage:  0.6216216216216216\n",
      "Confusion Matrix: \n",
      "[[6 3 1]\n",
      " [4 8 1]\n",
      " [3 2 9]]\n",
      "Precision:  0.6216216216216216\n"
     ]
    }
   ],
   "source": [
    "tree_model = tree.DecisionTreeClassifier()\n",
    "tree_model = tree_model.fit(train_in, train_out)\n",
    "preds_tree = tree_model.predict(test_in)\n",
    "\n",
    "print(\"Correct Predition Percentage: \", (preds_tree == test_out).sum()/len(preds_tree) )\n",
    "print(\"Confusion Matrix: \")\n",
    "print(confusion_matrix(test_out, preds_tree) )\n",
    "print(\"Precision: \", precision_score(test_out, preds_tree, average='micro') )"
   ]
  },
  {
   "cell_type": "markdown",
   "metadata": {},
   "source": [
    "* Random Forest"
   ]
  },
  {
   "cell_type": "code",
   "execution_count": 502,
   "metadata": {},
   "outputs": [
    {
     "name": "stdout",
     "output_type": "stream",
     "text": [
      "Correct Predition Percentage:  0.7027027027027027\n",
      "Confusion Matrix: \n",
      "[[ 7  3  0]\n",
      " [ 3 10  0]\n",
      " [ 0  5  9]]\n",
      "Precision:  0.7027027027027027\n"
     ]
    }
   ],
   "source": [
    "rf = RandomForestClassifier()\n",
    "rf.fit(train_in, train_out)\n",
    "preds = rf.predict(test_in)\n",
    "print(\"Correct Predition Percentage: \", (preds == test_out).sum()/len(preds) )\n",
    "print(\"Confusion Matrix: \")\n",
    "print(confusion_matrix(test_out, preds))\n",
    "print(\"Precision: \", precision_score(test_out, preds, average='micro') )"
   ]
  },
  {
   "cell_type": "markdown",
   "metadata": {},
   "source": [
    "2. Cross-Validation (5 folds)"
   ]
  },
  {
   "cell_type": "markdown",
   "metadata": {},
   "source": [
    "* K-Nearest Neighbors (KNN)"
   ]
  },
  {
   "cell_type": "code",
   "execution_count": 503,
   "metadata": {},
   "outputs": [
    {
     "name": "stdout",
     "output_type": "stream",
     "text": [
      "[0.68181818 0.68181818 0.63636364 0.5        0.5       ]\n",
      "0.6\n",
      "[0.72727273 0.77272727 0.63636364 0.72727273 0.54545455]\n",
      "0.6818181818181818\n"
     ]
    }
   ],
   "source": [
    "knn = KNeighborsClassifier()\n",
    "cv_scores = cross_val_score(knn, input_sc_filt2, output_disease, cv=5)\n",
    "precision = cross_val_score(rf, input_sc_filt2, output_disease, cv=5, scoring='precision_micro')\n",
    "\n",
    "print(cv_scores)\n",
    "print(cv_scores.mean())\n",
    "print(precision)\n",
    "print(precision.mean())"
   ]
  },
  {
   "cell_type": "markdown",
   "metadata": {},
   "source": [
    "* Decision Tree (DT)"
   ]
  },
  {
   "cell_type": "code",
   "execution_count": 504,
   "metadata": {},
   "outputs": [
    {
     "name": "stdout",
     "output_type": "stream",
     "text": [
      "[0.68181818 0.63636364 0.63636364 0.63636364 0.59090909]\n",
      "0.6363636363636364\n",
      "[0.86363636 0.72727273 0.68181818 0.86363636 0.59090909]\n",
      "0.7454545454545454\n"
     ]
    }
   ],
   "source": [
    "tree_model = tree.DecisionTreeClassifier()\n",
    "cv_scores = cross_val_score(tree_model, input_sc_filt2, output_disease, cv=5)\n",
    "precision = cross_val_score(rf, input_sc_filt2, output_disease, cv=5, scoring='precision_micro')\n",
    "\n",
    "print(cv_scores)\n",
    "print(cv_scores.mean())\n",
    "print(precision)\n",
    "print(precision.mean())"
   ]
  },
  {
   "cell_type": "markdown",
   "metadata": {},
   "source": [
    "* Random Forest "
   ]
  },
  {
   "cell_type": "code",
   "execution_count": 505,
   "metadata": {},
   "outputs": [
    {
     "name": "stdout",
     "output_type": "stream",
     "text": [
      "[0.81818182 0.77272727 0.5        0.72727273 0.68181818]\n",
      "0.7\n",
      "[0.86363636 0.72727273 0.54545455 0.72727273 0.68181818]\n",
      "0.709090909090909\n"
     ]
    }
   ],
   "source": [
    "rf = RandomForestClassifier()\n",
    "cv_scores = cross_val_score(rf, input_sc_filt2, output_disease, cv=5)\n",
    "precision = cross_val_score(rf, input_sc_filt2, output_disease, cv=5, scoring='precision_micro')\n",
    "\n",
    "print(cv_scores)\n",
    "print(cv_scores.mean())\n",
    "print(precision)\n",
    "print(precision.mean())"
   ]
  },
  {
   "cell_type": "markdown",
   "metadata": {},
   "source": [
    "#### Conclusão"
   ]
  },
  {
   "cell_type": "markdown",
   "metadata": {},
   "source": [
    "O modelo de Machine Learning que apresentou melhor resultado foi o algoritmo de Random Forest com a utilização dos genes diferencialmemte expressos em relação ao tipo de doença e com a partição de dados por Cross-Validation (5 folds). Este modelo apresentou uma acurácia de 79% e precisão de 78,18%. Portanto, pode-se concluir que, com o dataset utilizado e sua respetiva preparação, é possível desenvolver um modelo de ML que consegue prever qual o estado da doença que o paciente se encontra (diabético, sensível à insulina ou resistente à insulina) a partir das expressões genéticas recolhidas."
   ]
  },
  {
   "cell_type": "markdown",
   "metadata": {},
   "source": [
    "##### Créditos"
   ]
  },
  {
   "cell_type": "markdown",
   "metadata": {},
   "source": [
    "Todos os elementos do grupo participaram de forma igualitária no desenvolvimento do projeto."
   ]
  }
 ],
 "metadata": {
  "kernelspec": {
   "display_name": "Python 3",
   "language": "python",
   "name": "python3"
  },
  "language_info": {
   "codemirror_mode": {
    "name": "ipython",
    "version": 3
   },
   "file_extension": ".py",
   "mimetype": "text/x-python",
   "name": "python",
   "nbconvert_exporter": "python",
   "pygments_lexer": "ipython3",
   "version": "3.12.0"
  }
 },
 "nbformat": 4,
 "nbformat_minor": 2
}
